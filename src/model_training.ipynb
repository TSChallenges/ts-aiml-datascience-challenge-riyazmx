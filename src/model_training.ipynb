{
 "cells": [
  {
   "cell_type": "code",
   "execution_count": 15,
   "id": "5db3ed14",
   "metadata": {},
   "outputs": [
    {
     "name": "stdout",
     "output_type": "stream",
     "text": [
      "Accuracy: 0.8615\n",
      "F1 Score: 0.5624\n"
     ]
    }
   ],
   "source": [
    "\n",
    "\n",
    "# src/model_training.py\n",
    "\n",
    "import pandas as pd\n",
    "from sklearn.model_selection import train_test_split\n",
    "from sklearn.ensemble import RandomForestClassifier\n",
    "from sklearn.metrics import accuracy_score, f1_score\n",
    "\n",
    "def load_processed_data(filepath):\n",
    "    \"\"\"\n",
    "    Load the processed dataset into a pandas DataFrame.\n",
    "    \"\"\"\n",
    "    df = pd.read_csv(filepath)\n",
    "    return df\n",
    "\n",
    "def define_features_target(df):\n",
    "    \"\"\"\n",
    "    Define input features and target variable, with categorical variables encoded.\n",
    "    \"\"\"\n",
    "    # List of features (without age_group, country, and gender)\n",
    "    feature_cols = ['credit_score','tenure','balance','products_number','credit_card','active_member','estimated_salary']\n",
    "    \n",
    "    # One-Hot Encoding for categorical columns\n",
    "    df = pd.get_dummies(df, columns=['country', 'gender', 'age_group'], drop_first=True)\n",
    "    \n",
    "    \n",
    "    # Dynamically update feature columns based on the new columns\n",
    "    feature_cols = [col for col in df.columns if col != 'churn']\n",
    "    \n",
    "    # Define X (features) and y (target)\n",
    "    x = df[feature_cols]\n",
    "    y = df['churn']\n",
    "    \n",
    "    return x, y\n",
    "\n",
    "def train_model(x_train, y_train):\n",
    "    \"\"\"\n",
    "    Train a Random Forest Classifier.\n",
    "    \"\"\"\n",
    "    model = RandomForestClassifier(n_estimators=200, random_state=42)\n",
    "    model.fit(x_train, y_train)\n",
    "    return model\n",
    "\n",
    "def evaluate_model(model, x_test, y_test):\n",
    "    \"\"\"\n",
    "    Evaluate the model using Accuracy and F1 Score.\n",
    "    \"\"\"\n",
    "    y_pred = model.predict(x_test)\n",
    "    accuracy = accuracy_score(y_test, y_pred)\n",
    "    f1 = f1_score(y_test, y_pred)\n",
    "    print(f\"Accuracy: {accuracy:.4f}\")\n",
    "    print(f\"F1 Score: {f1:.4f}\")\n",
    "    return accuracy, f1\n",
    "\n",
    "def main():\n",
    "    # Load processed data\n",
    "    df = load_processed_data(\"/workspaces/ts-aiml-datascience-challenge-riyazmx/data/processed_bank_churn.csv\")\n",
    "    \n",
    "    # Define features and target\n",
    "    x, y = define_features_target(df)\n",
    "    \n",
    "    # Split into training and testing sets\n",
    "    x_train, x_test, y_train, y_test = train_test_split(x, y, test_size=0.2, random_state=42)\n",
    "    \n",
    "    # Train model\n",
    "    model = train_model(x_train, y_train)\n",
    "    \n",
    "    # Evaluate model\n",
    "    evaluate_model(model, x_test, y_test)\n",
    "\n",
    "if __name__ == \"__main__\":\n",
    "    main()\n"
   ]
  }
 ],
 "metadata": {
  "kernelspec": {
   "display_name": "Python 3",
   "language": "python",
   "name": "python3"
  },
  "language_info": {
   "codemirror_mode": {
    "name": "ipython",
    "version": 3
   },
   "file_extension": ".py",
   "mimetype": "text/x-python",
   "name": "python",
   "nbconvert_exporter": "python",
   "pygments_lexer": "ipython3",
   "version": "3.12.1"
  }
 },
 "nbformat": 4,
 "nbformat_minor": 5
}
